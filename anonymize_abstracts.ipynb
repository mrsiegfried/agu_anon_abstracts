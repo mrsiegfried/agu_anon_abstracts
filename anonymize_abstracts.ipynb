{
 "cells": [
  {
   "cell_type": "code",
   "execution_count": null,
   "id": "b799ca3d",
   "metadata": {},
   "outputs": [],
   "source": [
    "## written by M. Siegfried, Colorado School of Mines, siegfried@mines.edu\n",
    "import pandas as pd\n",
    "import numpy as np"
   ]
  },
  {
   "cell_type": "code",
   "execution_count": null,
   "id": "2d0b41cd",
   "metadata": {},
   "outputs": [],
   "source": [
    "## Set in and out file names -- note, at least when I was doing this, AGU spit out .xls files, not .xlsx files.\n",
    "## If that's still the case, you have to open the .xls file and re-save it as an .xlsx for this to work appropriately.\n",
    "\n",
    "in_file = 'ViewAbstractsinSessionExcel_RC9430_2022_08_25_10_31_26_689547.xlsx'\n",
    "out_name = 'abstracts_anon'\n",
    "\n",
    "## Code will parse the spreadsheet, then save two files:\n",
    "##   1) [out_name].xlsx which is an anonymized spreadsheet that only has \n",
    "##      abstract ID, presentation preference, whether it's invited, and the title. \n",
    "##      This file is good for sending to reviewers (add whatever rubric you are using!)\n",
    "##   2) [out_name].txt which is formatted to be opened in MS Word. If you open it in Word\n",
    "##      it will place each anonymized abstract on its own page with the abstract ID, whether \n",
    "##      it is invited, whether it requested only poster, the title, and the abstract text\n",
    "##      This can be exported as a PDF and sent around with the anonymized review spreadsheet\n",
    "##      so abstracts can be reviewed by the conveners anonymously\n",
    "\n",
    "abstracts = pd.read_excel(in_file)\n",
    "\n",
    "with open(str(out_name + '.txt'), 'w') as f:\n",
    "    for idx,row in abstracts.iterrows():\n",
    "        if row['Invited Author'] == 1:\n",
    "            print('INVITED\\n', file=f)\n",
    "        if row['Presentation Preference'] == \"Poster Only\":\n",
    "            print('POSTER ONLY\\n', file=f)\n",
    "        print(row['Abstract ID#'],'\\n\\n',\n",
    "              row['Title'],'\\n\\n',\n",
    "              #row['1st Author First Name'], row['1st Author Last Name'], ',', row['Co-Authors'],'\\n\\n',\n",
    "              row['Abstract'],'\\f',end='', file=f)\n",
    "f.close()\n",
    "\n",
    "anon_df = abstracts[[\"Abstract ID#\", \"Invited Author\", \"Presentation Preference\", \"Title\"]]\n",
    "anon_df.to_excel(str(out_name + '.xlsx'), index = False)\n",
    "\n",
    "print('all done.')"
   ]
  },
  {
   "cell_type": "code",
   "execution_count": null,
   "id": "6afcf563",
   "metadata": {},
   "outputs": [],
   "source": []
  },
  {
   "cell_type": "code",
   "execution_count": null,
   "id": "cb9bad44-e27d-4395-bf5a-33e79191a0ac",
   "metadata": {},
   "outputs": [],
   "source": []
  }
 ],
 "metadata": {
  "kernelspec": {
   "display_name": "Python 3 (ipykernel)",
   "language": "python",
   "name": "python3"
  },
  "language_info": {
   "codemirror_mode": {
    "name": "ipython",
    "version": 3
   },
   "file_extension": ".py",
   "mimetype": "text/x-python",
   "name": "python",
   "nbconvert_exporter": "python",
   "pygments_lexer": "ipython3",
   "version": "3.10.14"
  }
 },
 "nbformat": 4,
 "nbformat_minor": 5
}
